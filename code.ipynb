{
  "cells": [
    {
      "cell_type": "code",
      "execution_count": 1,
      "metadata": {},
      "outputs": [],
      "source": [
        "from keras import preprocessing\n",
        "from keras.preprocessing.text import one_hot\n",
        "from keras_preprocessing.sequence import pad_sequences\n",
        "from sklearn.model_selection import train_test_split\n",
        "from keras.preprocessing.text import Tokenizer\n",
        "import re"
      ]
    },
    {
      "cell_type": "code",
      "execution_count": 2,
      "metadata": {},
      "outputs": [],
      "source": [
        "def preprocess_text(sen):\n",
        "    # Remove punctuations and numbers\n",
        "    sentence = re.sub('[^a-zA-Z]', ' ', sen)\n",
        "\n",
        "    # Single character removal\n",
        "    sentence = re.sub(r\"\\s+[a-zA-Z]\\s+\", ' ', sentence)\n",
        "\n",
        "    # Removing multiple spaces\n",
        "    sentence = re.sub(r'\\s+', ' ', sentence)\n",
        "\n",
        "    return sentence"
      ]
    },
    {
      "cell_type": "code",
      "execution_count": 5,
      "metadata": {},
      "outputs": [
        {
          "name": "stdout",
          "output_type": "stream",
          "text": [
            "(200, 1)\n"
          ]
        },
        {
          "data": {
            "text/plain": [
              "<bound method NDFrame.head of      label\n",
              "0        3\n",
              "1        2\n",
              "2        1\n",
              "3        2\n",
              "4        0\n",
              "..     ...\n",
              "195      3\n",
              "196      1\n",
              "197      1\n",
              "198      2\n",
              "199      3\n",
              "\n",
              "[200 rows x 1 columns]>"
            ]
          },
          "execution_count": 5,
          "metadata": {},
          "output_type": "execute_result"
        }
      ],
      "source": [
        "from numpy import array\n",
        "import pandas as pd\n",
        "import numpy as np\n",
        "input=pd.read_csv(\"C:/Users/aniru/OneDrive/Desktop/ML programming assignment/data.csv\")\n",
        "# print(input_labels.shape)\n",
        "# input.head()\n",
        "input_labels = input[[\"label\"]]\n",
        "print(input_labels.shape)\n",
        "input_labels.head\n",
        "\n"
      ]
    },
    {
      "cell_type": "code",
      "execution_count": 7,
      "metadata": {},
      "outputs": [
        {
          "name": "stdout",
          "output_type": "stream",
          "text": [
            "[3, 2, 1, 2, 0, 3, 0, 1, 0, 0, 0, 0, 0, 2, 0, 0, 3, 1, 1, 3, 3, 2, 2, 3, 0, 1, 1, 3, 2, 1, 1, 1, 1, 2, 1, 2, 0, 1, 2, 1, 2, 2, 3, 2, 3, 3, 2, 3, 0, 1, 2, 3, 2, 1, 2, 2, 2, 3, 3, 3, 1, 3, 3, 1, 1, 3, 2, 0, 0, 0, 1, 2, 0, 0, 0, 1, 0, 1, 0, 2, 0, 0, 2, 1, 2, 2, 3, 0, 3, 0, 1, 1, 2, 3, 1, 3, 1, 1, 1, 1, 1, 3, 3, 3, 2, 1, 3, 1, 1, 2, 0, 0, 2, 2, 0, 0, 2, 3, 2, 3, 3, 1, 2, 0, 0, 0, 3, 2, 3, 3, 2, 3, 3, 0, 0, 3, 1, 0, 2, 1, 3, 2, 2, 0, 3, 3, 3, 0, 0, 0, 2, 3, 2, 2, 1, 0, 1, 1, 0, 1, 2, 2, 3, 0, 0, 0, 1, 0, 2, 1, 1, 3, 0, 2, 2, 0, 1, 2, 3, 3, 1, 3, 2, 3, 0, 3, 1, 3, 1, 0, 2, 2, 0, 0, 1, 3, 1, 1, 2, 3]\n"
          ]
        }
      ],
      "source": [
        "X = []\n",
        "summary = list(input[\"summary\"])\n",
        "titles=list(input[\"title\"])\n",
        "# print(titles[])\n",
        "# print((titles))\n",
        "l=[]\n",
        "for i in range(len(summary)):\n",
        "    summary[i]=titles[i]+\" \"+summary[i]\n",
        "    # X.append(preprocess_text(sen))\n",
        "for sen in summary:\n",
        "    X.append(preprocess_text(sen))\n",
        "\n",
        "# print(X)\n",
        "labels=[]\n",
        "y = input_labels.values\n",
        "for i in range(200):\n",
        "    labels.append(int(y[i][0]))    \n",
        "print(labels)\n",
        "y=labels\n"
      ]
    },
    {
      "cell_type": "code",
      "execution_count": 8,
      "metadata": {},
      "outputs": [],
      "source": [
        "def using_Tokenizer(doc):\n",
        "    # create the tokenizer\n",
        "    t = Tokenizer()\n",
        "    # fit the tokenizer on the documents\n",
        "    t.fit_on_texts(doc)\n",
        "\n",
        "    # integer encode documents\n",
        "    encoded_docs = t.texts_to_matrix(doc, mode='count')\n",
        "    return encoded_docs\n",
        "\n",
        "pd.options.display.max_rows = 4000\n",
        "def invert_encoding(row_num):\n",
        "    inverted = label_encoder.inverse_transform([argmax(onehot_encoded[row_num, :])])\n",
        "    return inverted\n",
        "X=(using_Tokenizer(X))\n",
        "\n"
      ]
    },
    {
      "cell_type": "code",
      "execution_count": 9,
      "metadata": {},
      "outputs": [],
      "source": [
        "\n",
        "# print((X[2].shape))"
      ]
    },
    {
      "cell_type": "code",
      "execution_count": 10,
      "metadata": {},
      "outputs": [],
      "source": [
        "X_train, X_test, y_train, y_test = train_test_split(X, y, test_size=0.20, random_state=42)"
      ]
    },
    {
      "cell_type": "code",
      "execution_count": 11,
      "metadata": {},
      "outputs": [],
      "source": [
        "# print((X_train[0]))\n",
        "# print(X_train.shape)\n",
        "# print(type(X_train[2]))"
      ]
    },
    {
      "cell_type": "code",
      "execution_count": 12,
      "metadata": {},
      "outputs": [],
      "source": [
        "from random import triangular\n",
        "from tensorflow.keras.utils import to_categorical\n",
        "y_train = to_categorical(y_train)\n",
        "y_test = to_categorical(y_test)\n",
        "# print(len(X_train))\n",
        "# print(type(X_test))\n",
        "# print(y_train[0])\n",
        "# print(type(y_test))\n",
        "\n"
      ]
    },
    {
      "cell_type": "code",
      "execution_count": 13,
      "metadata": {},
      "outputs": [
        {
          "name": "stdout",
          "output_type": "stream",
          "text": [
            "[[0. 0. 1. 0.]\n",
            " [0. 1. 0. 0.]\n",
            " [0. 0. 1. 0.]\n",
            " [1. 0. 0. 0.]\n",
            " [0. 0. 1. 0.]\n",
            " [0. 0. 0. 1.]\n",
            " [0. 1. 0. 0.]\n",
            " [0. 0. 0. 1.]\n",
            " [1. 0. 0. 0.]\n",
            " [0. 0. 0. 1.]\n",
            " [1. 0. 0. 0.]\n",
            " [0. 0. 1. 0.]\n",
            " [0. 0. 0. 1.]\n",
            " [0. 0. 0. 1.]\n",
            " [0. 0. 0. 1.]\n",
            " [1. 0. 0. 0.]\n",
            " [0. 0. 0. 1.]\n",
            " [0. 1. 0. 0.]\n",
            " [1. 0. 0. 0.]\n",
            " [0. 1. 0. 0.]\n",
            " [0. 1. 0. 0.]\n",
            " [0. 1. 0. 0.]\n",
            " [0. 1. 0. 0.]\n",
            " [1. 0. 0. 0.]\n",
            " [0. 0. 1. 0.]\n",
            " [0. 0. 0. 1.]\n",
            " [0. 0. 0. 1.]\n",
            " [1. 0. 0. 0.]\n",
            " [0. 1. 0. 0.]\n",
            " [0. 1. 0. 0.]\n",
            " [0. 0. 0. 1.]\n",
            " [0. 0. 1. 0.]\n",
            " [0. 0. 0. 1.]\n",
            " [0. 0. 1. 0.]\n",
            " [0. 0. 1. 0.]\n",
            " [0. 0. 1. 0.]\n",
            " [0. 1. 0. 0.]\n",
            " [0. 1. 0. 0.]\n",
            " [0. 1. 0. 0.]\n",
            " [1. 0. 0. 0.]\n",
            " [0. 1. 0. 0.]\n",
            " [0. 1. 0. 0.]\n",
            " [0. 0. 1. 0.]\n",
            " [0. 0. 0. 1.]\n",
            " [0. 0. 1. 0.]\n",
            " [0. 0. 1. 0.]\n",
            " [0. 0. 1. 0.]\n",
            " [1. 0. 0. 0.]\n",
            " [0. 0. 1. 0.]\n",
            " [0. 0. 0. 1.]\n",
            " [0. 0. 1. 0.]\n",
            " [0. 0. 1. 0.]\n",
            " [0. 0. 0. 1.]\n",
            " [0. 0. 1. 0.]\n",
            " [1. 0. 0. 0.]\n",
            " [0. 1. 0. 0.]\n",
            " [0. 1. 0. 0.]\n",
            " [1. 0. 0. 0.]\n",
            " [0. 0. 0. 1.]\n",
            " [0. 0. 0. 1.]\n",
            " [1. 0. 0. 0.]\n",
            " [0. 1. 0. 0.]\n",
            " [0. 0. 1. 0.]\n",
            " [0. 0. 0. 1.]\n",
            " [0. 0. 1. 0.]\n",
            " [0. 0. 0. 1.]\n",
            " [1. 0. 0. 0.]\n",
            " [0. 0. 0. 1.]\n",
            " [0. 0. 1. 0.]\n",
            " [0. 0. 0. 1.]\n",
            " [0. 1. 0. 0.]\n",
            " [0. 0. 0. 1.]\n",
            " [0. 0. 1. 0.]\n",
            " [0. 0. 1. 0.]\n",
            " [0. 1. 0. 0.]\n",
            " [1. 0. 0. 0.]\n",
            " [0. 1. 0. 0.]\n",
            " [0. 0. 0. 1.]\n",
            " [1. 0. 0. 0.]\n",
            " [0. 0. 1. 0.]\n",
            " [0. 0. 1. 0.]\n",
            " [0. 1. 0. 0.]\n",
            " [1. 0. 0. 0.]\n",
            " [0. 1. 0. 0.]\n",
            " [0. 1. 0. 0.]\n",
            " [0. 0. 0. 1.]\n",
            " [1. 0. 0. 0.]\n",
            " [1. 0. 0. 0.]\n",
            " [1. 0. 0. 0.]\n",
            " [0. 1. 0. 0.]\n",
            " [0. 0. 1. 0.]\n",
            " [0. 0. 0. 1.]\n",
            " [0. 1. 0. 0.]\n",
            " [0. 1. 0. 0.]\n",
            " [0. 0. 1. 0.]\n",
            " [0. 0. 1. 0.]\n",
            " [0. 0. 1. 0.]\n",
            " [0. 1. 0. 0.]\n",
            " [0. 1. 0. 0.]\n",
            " [1. 0. 0. 0.]\n",
            " [0. 1. 0. 0.]\n",
            " [0. 0. 0. 1.]\n",
            " [0. 0. 0. 1.]\n",
            " [0. 1. 0. 0.]\n",
            " [1. 0. 0. 0.]\n",
            " [0. 1. 0. 0.]\n",
            " [0. 1. 0. 0.]\n",
            " [1. 0. 0. 0.]\n",
            " [0. 1. 0. 0.]\n",
            " [0. 1. 0. 0.]\n",
            " [0. 1. 0. 0.]\n",
            " [0. 0. 0. 1.]\n",
            " [1. 0. 0. 0.]\n",
            " [1. 0. 0. 0.]\n",
            " [0. 0. 1. 0.]\n",
            " [0. 0. 0. 1.]\n",
            " [0. 0. 0. 1.]\n",
            " [0. 0. 0. 1.]\n",
            " [0. 1. 0. 0.]\n",
            " [1. 0. 0. 0.]\n",
            " [1. 0. 0. 0.]\n",
            " [1. 0. 0. 0.]\n",
            " [1. 0. 0. 0.]\n",
            " [0. 0. 0. 1.]\n",
            " [0. 1. 0. 0.]\n",
            " [0. 0. 1. 0.]\n",
            " [0. 1. 0. 0.]\n",
            " [0. 0. 1. 0.]\n",
            " [0. 1. 0. 0.]\n",
            " [0. 0. 0. 1.]\n",
            " [1. 0. 0. 0.]\n",
            " [0. 0. 0. 1.]\n",
            " [0. 0. 1. 0.]\n",
            " [0. 0. 0. 1.]\n",
            " [0. 0. 1. 0.]\n",
            " [1. 0. 0. 0.]\n",
            " [0. 0. 0. 1.]\n",
            " [0. 1. 0. 0.]\n",
            " [0. 1. 0. 0.]\n",
            " [1. 0. 0. 0.]\n",
            " [0. 0. 1. 0.]\n",
            " [0. 0. 1. 0.]\n",
            " [1. 0. 0. 0.]\n",
            " [0. 0. 1. 0.]\n",
            " [0. 0. 0. 1.]\n",
            " [0. 0. 0. 1.]\n",
            " [0. 1. 0. 0.]\n",
            " [0. 0. 1. 0.]\n",
            " [1. 0. 0. 0.]\n",
            " [1. 0. 0. 0.]\n",
            " [0. 1. 0. 0.]\n",
            " [0. 0. 0. 1.]\n",
            " [0. 0. 0. 1.]\n",
            " [0. 1. 0. 0.]\n",
            " [0. 0. 1. 0.]\n",
            " [0. 0. 0. 1.]\n",
            " [1. 0. 0. 0.]\n",
            " [0. 0. 1. 0.]\n",
            " [0. 0. 0. 1.]\n",
            " [0. 0. 0. 1.]]\n"
          ]
        }
      ],
      "source": [
        "print(y_train)"
      ]
    },
    {
      "cell_type": "code",
      "execution_count": 14,
      "metadata": {},
      "outputs": [],
      "source": [
        "from tensorflow import keras\n",
        "from tensorflow.keras import layers\n",
        "model = keras.Sequential([\n",
        "    layers.Dense(64, activation=\"relu\"),\n",
        "    layers.Dense(64, activation=\"relu\"),\n",
        "    layers.Dense(4, activation=\"softmax\")\n",
        "])"
      ]
    },
    {
      "cell_type": "code",
      "execution_count": 15,
      "metadata": {},
      "outputs": [],
      "source": [
        "model.compile(optimizer=\"rmsprop\",\n",
        "              loss=\"categorical_crossentropy\",\n",
        "              metrics=[\"accuracy\"])"
      ]
    },
    {
      "cell_type": "code",
      "execution_count": 16,
      "metadata": {},
      "outputs": [],
      "source": [
        "x_val = X_train[:20]\n",
        "partial_x_train = X_train[20:]\n",
        "y_val = y_train[:20]\n",
        "partial_y_train = y_train[20:]\n"
      ]
    },
    {
      "cell_type": "code",
      "execution_count": 17,
      "metadata": {},
      "outputs": [
        {
          "name": "stdout",
          "output_type": "stream",
          "text": [
            "(140, 3783)\n"
          ]
        }
      ],
      "source": [
        "print(partial_x_train.shape)"
      ]
    },
    {
      "cell_type": "code",
      "execution_count": 18,
      "metadata": {},
      "outputs": [
        {
          "name": "stdout",
          "output_type": "stream",
          "text": [
            "Epoch 1/20\n",
            "14/14 [==============================] - 3s 80ms/step - loss: 1.3474 - accuracy: 0.3643 - val_loss: 1.2921 - val_accuracy: 0.4500\n",
            "Epoch 2/20\n",
            "14/14 [==============================] - 1s 39ms/step - loss: 0.8058 - accuracy: 0.8786 - val_loss: 1.0930 - val_accuracy: 0.6500\n",
            "Epoch 3/20\n",
            "14/14 [==============================] - 1s 37ms/step - loss: 0.3475 - accuracy: 0.9857 - val_loss: 0.8657 - val_accuracy: 0.7500\n",
            "Epoch 4/20\n",
            "14/14 [==============================] - 1s 44ms/step - loss: 0.0996 - accuracy: 1.0000 - val_loss: 0.7404 - val_accuracy: 0.7500\n",
            "Epoch 5/20\n",
            "14/14 [==============================] - 1s 43ms/step - loss: 0.0269 - accuracy: 1.0000 - val_loss: 0.6714 - val_accuracy: 0.7500\n",
            "Epoch 6/20\n",
            "14/14 [==============================] - 1s 49ms/step - loss: 0.0091 - accuracy: 1.0000 - val_loss: 0.6263 - val_accuracy: 0.8000\n",
            "Epoch 7/20\n",
            "14/14 [==============================] - 1s 46ms/step - loss: 0.0034 - accuracy: 1.0000 - val_loss: 0.5817 - val_accuracy: 0.7000\n",
            "Epoch 8/20\n",
            "14/14 [==============================] - 1s 65ms/step - loss: 0.0014 - accuracy: 1.0000 - val_loss: 0.5566 - val_accuracy: 0.8000\n",
            "Epoch 9/20\n",
            "14/14 [==============================] - 1s 52ms/step - loss: 5.8499e-04 - accuracy: 1.0000 - val_loss: 0.5382 - val_accuracy: 0.8000\n",
            "Epoch 10/20\n",
            "14/14 [==============================] - 0s 36ms/step - loss: 2.5093e-04 - accuracy: 1.0000 - val_loss: 0.5339 - val_accuracy: 0.7500\n",
            "Epoch 11/20\n",
            "14/14 [==============================] - 0s 30ms/step - loss: 1.0712e-04 - accuracy: 1.0000 - val_loss: 0.5123 - val_accuracy: 0.8500\n",
            "Epoch 12/20\n",
            "14/14 [==============================] - 1s 46ms/step - loss: 4.6748e-05 - accuracy: 1.0000 - val_loss: 0.4741 - val_accuracy: 0.8500\n",
            "Epoch 13/20\n",
            "14/14 [==============================] - 0s 32ms/step - loss: 2.0244e-05 - accuracy: 1.0000 - val_loss: 0.4662 - val_accuracy: 0.8500\n",
            "Epoch 14/20\n",
            "14/14 [==============================] - 0s 30ms/step - loss: 9.2888e-06 - accuracy: 1.0000 - val_loss: 0.4688 - val_accuracy: 0.8000\n",
            "Epoch 15/20\n",
            "14/14 [==============================] - 0s 26ms/step - loss: 4.2489e-06 - accuracy: 1.0000 - val_loss: 0.4546 - val_accuracy: 0.9000\n",
            "Epoch 16/20\n",
            "14/14 [==============================] - 0s 30ms/step - loss: 1.9312e-06 - accuracy: 1.0000 - val_loss: 0.4511 - val_accuracy: 0.8500\n",
            "Epoch 17/20\n",
            "14/14 [==============================] - 0s 18ms/step - loss: 9.1280e-07 - accuracy: 1.0000 - val_loss: 0.4451 - val_accuracy: 0.8500\n",
            "Epoch 18/20\n",
            "14/14 [==============================] - 0s 26ms/step - loss: 4.5640e-07 - accuracy: 1.0000 - val_loss: 0.4682 - val_accuracy: 0.9000\n",
            "Epoch 19/20\n",
            "14/14 [==============================] - 0s 26ms/step - loss: 2.3161e-07 - accuracy: 1.0000 - val_loss: 0.4364 - val_accuracy: 0.9000\n",
            "Epoch 20/20\n",
            "14/14 [==============================] - 0s 18ms/step - loss: 1.0984e-07 - accuracy: 1.0000 - val_loss: 0.4614 - val_accuracy: 0.9000\n"
          ]
        }
      ],
      "source": [
        "history = model.fit(partial_x_train,\n",
        "                    partial_y_train,\n",
        "                    epochs=20,\n",
        "                    batch_size=10,\n",
        "                    validation_data=(x_val, y_val))"
      ]
    },
    {
      "cell_type": "code",
      "execution_count": 19,
      "metadata": {},
      "outputs": [
        {
          "data": {
            "image/png": "[encoded data removed]",
            "text/plain": [
              "<Figure size 640x480 with 1 Axes>"
            ]
          },
          "metadata": {},
          "output_type": "display_data"
        }
      ],
      "source": [
        "import matplotlib.pyplot as plt\n",
        "history_dict = history.history\n",
        "loss_values = history_dict[\"loss\"]\n",
        "val_loss_values = history_dict[\"val_loss\"]\n",
        "epochs = range(1, len(loss_values) + 1)\n",
        "plt.plot(epochs, loss_values, \"bo\", label=\"Training loss\")\n",
        "plt.plot(epochs, val_loss_values, \"b\", label=\"Validation loss\")\n",
        "plt.title(\"Training and validation loss\")\n",
        "plt.xlabel(\"Epochs\")\n",
        "plt.ylabel(\"Loss\")\n",
        "plt.legend()\n",
        "plt.show()"
      ]
    },
    {
      "cell_type": "code",
      "execution_count": 20,
      "metadata": {},
      "outputs": [
        {
          "data": {
            "image/png": "[encoded data removed]",
            "text/plain": [
              "<Figure size 640x480 with 1 Axes>"
            ]
          },
          "metadata": {},
          "output_type": "display_data"
        }
      ],
      "source": [
        "plt.clf()\n",
        "acc = history_dict[\"accuracy\"]\n",
        "val_acc = history_dict[\"val_accuracy\"]\n",
        "plt.plot(epochs, acc, \"bo\", label=\"Training acc\")\n",
        "plt.plot(epochs, val_acc, \"b\", label=\"Validation acc\")\n",
        "plt.title(\"Training and validation accuracy\")\n",
        "plt.xlabel(\"Epochs\")\n",
        "plt.ylabel(\"Accuracy\")\n",
        "plt.legend()\n",
        "plt.show()"
      ]
    },
    {
      "cell_type": "code",
      "execution_count": 21,
      "metadata": {},
      "outputs": [
        {
          "name": "stdout",
          "output_type": "stream",
          "text": [
            "2/2 [==============================] - 0s 8ms/step\n",
            "[[1.6807964e-03 8.9693007e-05 2.7641581e-05 9.9820179e-01]\n",
            " [2.7795365e-01 3.0776899e-02 5.8699764e-02 6.3256967e-01]\n",
            " [3.4228113e-05 9.9870747e-01 1.4251421e-04 1.1158821e-03]\n",
            " [9.1978377e-01 6.8150356e-02 1.1125983e-02 9.3989423e-04]\n",
            " [3.0655323e-05 1.5185554e-04 6.6600238e-05 9.9975085e-01]\n",
            " [1.5831357e-01 8.3491933e-01 1.0877905e-03 5.6793517e-03]\n",
            " [3.5291474e-02 1.7653467e-02 1.7684482e-02 9.2937058e-01]\n",
            " [4.0342980e-03 7.9548877e-01 4.8873182e-02 1.5160368e-01]\n",
            " [9.6555763e-01 6.6437502e-04 2.9727096e-02 4.0509095e-03]\n",
            " [4.1287238e-04 4.7341129e-04 5.8910809e-04 9.9852449e-01]\n",
            " [1.8392017e-03 1.1756615e-03 9.9642450e-01 5.6060473e-04]\n",
            " [9.2933595e-04 5.6269700e-03 9.1631854e-01 7.7125117e-02]\n",
            " [8.1960452e-01 3.7097316e-03 1.9429013e-02 1.5725669e-01]\n",
            " [2.7863699e-01 5.5808103e-01 5.0952248e-03 1.5818681e-01]\n",
            " [7.1202070e-03 9.9081939e-01 1.7344711e-03 3.2588252e-04]\n",
            " [2.4477160e-03 2.4673209e-02 9.6531969e-01 7.5594508e-03]\n",
            " [2.8957869e-05 1.0475330e-05 9.9995929e-01 1.1893769e-06]\n",
            " [4.4782833e-08 2.1017456e-06 9.9999732e-01 4.9910267e-07]\n",
            " [4.6131594e-04 9.9391514e-01 3.6384119e-03 1.9852563e-03]\n",
            " [6.5721458e-01 3.0589548e-01 2.1440873e-02 1.5449087e-02]\n",
            " [2.3620680e-02 9.1436779e-01 7.4588675e-03 5.4552760e-02]\n",
            " [5.5773864e-05 2.4768026e-03 3.7615417e-05 9.9742979e-01]\n",
            " [9.7386861e-01 6.6419886e-03 3.0517487e-03 1.6437631e-02]\n",
            " [1.9365144e-03 9.5433101e-02 7.1379091e-03 8.9549249e-01]\n",
            " [5.9648743e-04 3.9424100e-03 5.4027547e-05 9.9540710e-01]\n",
            " [1.3753186e-05 9.9995381e-01 7.6058495e-06 2.4735560e-05]\n",
            " [1.9535849e-02 3.2328140e-02 9.4776827e-01 3.6781025e-04]\n",
            " [9.9999899e-01 5.9760339e-07 7.8207357e-08 2.0868524e-07]\n",
            " [2.8375860e-02 3.8571569e-01 1.7144994e-01 4.1445851e-01]\n",
            " [4.4636603e-05 1.0813866e-02 1.6567025e-06 9.8913974e-01]\n",
            " [3.7519231e-01 4.5468709e-01 1.9687688e-02 1.5043280e-01]\n",
            " [1.9254657e-02 1.3310607e-02 3.5755248e-03 9.6385914e-01]\n",
            " [8.8306173e-05 8.8678345e-05 9.8742169e-01 1.2401264e-02]\n",
            " [2.6298612e-01 7.0744032e-01 6.9376575e-03 2.2635767e-02]\n",
            " [5.5716515e-01 6.5469190e-02 3.7360016e-01 3.7655537e-03]\n",
            " [8.1031146e-03 6.7290157e-02 7.7000105e-01 1.5460563e-01]\n",
            " [1.6189893e-04 5.5050674e-05 1.1818167e-05 9.9977136e-01]\n",
            " [9.9992114e-01 3.0426585e-05 3.3077140e-05 1.5333057e-05]\n",
            " [9.6689498e-01 2.1462737e-02 1.0549323e-02 1.0929451e-03]\n",
            " [9.9989599e-01 6.1092520e-05 5.2548517e-06 3.7504000e-05]]\n"
          ]
        }
      ],
      "source": [
        "predictions = model.predict(X_test)\n",
        "print(predictions)"
      ]
    },
    {
      "cell_type": "code",
      "execution_count": 22,
      "metadata": {},
      "outputs": [
        {
          "name": "stdout",
          "output_type": "stream",
          "text": [
            "[3 3 1 0 3 1 3 1 0 3 2 2 0 1 1 2 2 2 1 0 1 3 0 3 3 1 2 0 3 3 1 3 2 1 0 2 3\n",
            " 0 0 0]\n"
          ]
        }
      ],
      "source": [
        "tt=np.argmax(predictions,axis=1)\n",
        "print(tt)"
      ]
    },
    {
      "cell_type": "code",
      "execution_count": 23,
      "metadata": {},
      "outputs": [
        {
          "name": "stdout",
          "output_type": "stream",
          "text": [
            "[3 0 1 0 3 0 0 1 2 3 2 2 0 0 1 2 2 2 2 0 0 3 0 3 3 1 2 0 0 3 0 1 2 1 2 2 3\n",
            " 0 0 0]\n"
          ]
        }
      ],
      "source": [
        "tv=np.argmax(y_test,axis=1)\n",
        "print(tv)"
      ]
    },
    {
      "cell_type": "code",
      "execution_count": 24,
      "metadata": {},
      "outputs": [
        {
          "data": {
            "text/plain": [
              "0.725"
            ]
          },
          "execution_count": 24,
          "metadata": {},
          "output_type": "execute_result"
        }
      ],
      "source": [
        "answer=np.sum(tt==tv)\n",
        "answer/y_test.shape[0]"
      ]
    }
  ],
  "metadata": {
    "colab": {
      "collapsed_sections": [],
      "provenance": []
    },
    "kernelspec": {
      "display_name": "Python 3.7.13 ('tf')",
      "language": "python",
      "name": "python3"
    },
    "language_info": {
      "codemirror_mode": {
        "name": "ipython",
        "version": 3
      },
      "file_extension": ".py",
      "mimetype": "text/x-python",
      "name": "python",
      "nbconvert_exporter": "python",
      "pygments_lexer": "ipython3",
      "version": "3.7.15 (default, Nov 24 2022, 18:44:54) [MSC v.1916 64 bit (AMD64)]"
    },
    "vscode": {
      "interpreter": {
        "hash": "56243bcf3bf99c0245e2232c9d9996f5d5955bf68cbec79d8813b77d9996ee8f"
      }
    }
  },
  "nbformat": 4,
  "nbformat_minor": 0
}
